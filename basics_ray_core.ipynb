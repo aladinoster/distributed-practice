{
 "cells": [
  {
   "cell_type": "markdown",
   "id": "f89a169a-bab6-4ff1-b730-100d5130e4a0",
   "metadata": {},
   "source": [
    "# Ray Basics\n",
    "\n",
    "Here we present some ray basics;"
   ]
  },
  {
   "cell_type": "code",
   "execution_count": 1,
   "id": "c45115a9-6b90-45f0-9a7c-274799c726c9",
   "metadata": {},
   "outputs": [
    {
     "name": "stderr",
     "output_type": "stream",
     "text": [
      "2024-10-01 04:45:07,661\tINFO worker.py:1786 -- Started a local Ray instance.\n"
     ]
    }
   ],
   "source": [
    "import ray\n",
    "\n",
    "info = ray.init()"
   ]
  },
  {
   "cell_type": "markdown",
   "id": "64927110-db9d-4c07-a993-af96914d178c",
   "metadata": {},
   "source": [
    "Check cluster information"
   ]
  },
  {
   "cell_type": "code",
   "execution_count": 2,
   "id": "a94ee74a-87d1-4005-ac82-9f8fde10ea3c",
   "metadata": {},
   "outputs": [
    {
     "data": {
      "text/plain": [
       "{'CPU': 12.0,\n",
       " 'memory': 4112488859.0,\n",
       " 'node:127.0.0.1': 1.0,\n",
       " 'object_store_memory': 2056244428.0,\n",
       " 'node:__internal_head__': 1.0}"
      ]
     },
     "execution_count": 2,
     "metadata": {},
     "output_type": "execute_result"
    }
   ],
   "source": [
    "ray.cluster_resources()"
   ]
  },
  {
   "cell_type": "markdown",
   "id": "84a31722-4633-4a0c-9e72-38ff715e2cd3",
   "metadata": {},
   "source": [
    "## Use case: db item retrieval\n",
    "\n",
    "This is an example on retreiving information from a db with potential delays"
   ]
  },
  {
   "cell_type": "code",
   "execution_count": 3,
   "id": "396a4296-624f-4afd-abdd-f84291043677",
   "metadata": {},
   "outputs": [],
   "source": [
    "import time \n",
    "\n",
    "database = [ \n",
    "    \"Learning\", \n",
    "    \"Ray\", \n",
    "    \"Flexible\", \n",
    "    \"Distributed\", \n",
    "    \"Python\", \n",
    "    \"for\", \n",
    "    \"Machine\", \n",
    "    \"Learning\" \n",
    "] \n",
    "\n",
    "def retrieve(item): \n",
    "    time.sleep(item / 10.) \n",
    "    return item, database[item]"
   ]
  },
  {
   "cell_type": "code",
   "execution_count": 4,
   "id": "ea1ab20b-4f9a-48a7-a587-47d51cd1a7dd",
   "metadata": {},
   "outputs": [],
   "source": [
    "def print_runtime(input_data, start_time): \n",
    "    print(f'Runtime: {time.time() - start_time:.2f} seconds, data:') \n",
    "    print(*input_data, sep=\"\\n\")"
   ]
  },
  {
   "cell_type": "code",
   "execution_count": 5,
   "id": "30dd21ea-47f8-4f75-bc93-fe8c117cb7a7",
   "metadata": {},
   "outputs": [
    {
     "name": "stdout",
     "output_type": "stream",
     "text": [
      "Runtime: 2.83 seconds, data:\n",
      "(0, 'Learning')\n",
      "(1, 'Ray')\n",
      "(2, 'Flexible')\n",
      "(3, 'Distributed')\n",
      "(4, 'Python')\n",
      "(5, 'for')\n",
      "(6, 'Machine')\n",
      "(7, 'Learning')\n"
     ]
    }
   ],
   "source": [
    "start = time.time() \n",
    "data = [retrieve(item) for item in range(8)] \n",
    "print_runtime(data, start)"
   ]
  },
  {
   "cell_type": "markdown",
   "id": "bf36c26b-1aa4-48dd-92f7-fef0d864118e",
   "metadata": {},
   "source": [
    "## `get`\n",
    "\n",
    "To introduce ways to schedule tasks asynchronously and in paralell"
   ]
  },
  {
   "cell_type": "code",
   "execution_count": 6,
   "id": "3272a242-3c81-4d35-ae3a-68b9b339a44e",
   "metadata": {},
   "outputs": [],
   "source": [
    "@ray.remote \n",
    "def retrieve_task(item): \n",
    "    return retrieve(item)"
   ]
  },
  {
   "cell_type": "markdown",
   "id": "87b65241-b052-490b-880e-ec10bf23c3f8",
   "metadata": {},
   "source": [
    "One can use `rat.get` to trigger task execution, but tasks are blocked until total execution."
   ]
  },
  {
   "cell_type": "code",
   "execution_count": 7,
   "id": "b8fc5a74-6cfe-44ab-a28b-ae439d5d66d4",
   "metadata": {},
   "outputs": [
    {
     "name": "stdout",
     "output_type": "stream",
     "text": [
      "Runtime: 0.73 seconds, data:\n",
      "(0, 'Learning')\n",
      "(1, 'Ray')\n",
      "(2, 'Flexible')\n",
      "(3, 'Distributed')\n",
      "(4, 'Python')\n",
      "(5, 'for')\n",
      "(6, 'Machine')\n",
      "(7, 'Learning')\n"
     ]
    }
   ],
   "source": [
    "start = time.time() \n",
    "object_references = [ retrieve_task.remote(item) for item in range(8) ] \n",
    "data = ray.get(object_references)\n",
    "print_runtime(data, start)"
   ]
  },
  {
   "cell_type": "markdown",
   "id": "8bc1dc30-133f-4c10-86e8-a039cc9e410e",
   "metadata": {},
   "source": [
    "Best practice... global variables always shared through **object store**"
   ]
  },
  {
   "cell_type": "code",
   "execution_count": 8,
   "id": "079a083f-cb11-4721-8d0f-2e84fa6b1f9c",
   "metadata": {},
   "outputs": [],
   "source": [
    "db_object_ref = ray.put(database)"
   ]
  },
  {
   "cell_type": "code",
   "execution_count": 9,
   "id": "d1d4b912-0b92-4bba-8549-0f2f84aac026",
   "metadata": {},
   "outputs": [],
   "source": [
    "@ray.remote \n",
    "def retrieve_task(item, db): \n",
    "    time.sleep(item / 10.) \n",
    "    return item, db[item]"
   ]
  },
  {
   "cell_type": "markdown",
   "id": "69629e63-34a6-4f3c-9eee-006a456b1d3a",
   "metadata": {},
   "source": [
    "## `wait`\n",
    "\n",
    "If one need tasks to be executed as soon as poosible use `ray.wait`"
   ]
  },
  {
   "cell_type": "code",
   "execution_count": 10,
   "id": "e10388d3-b466-4915-9109-70776e9666ec",
   "metadata": {},
   "outputs": [
    {
     "name": "stdout",
     "output_type": "stream",
     "text": [
      "Runtime: 0.11 seconds, data:\n",
      "(0, 'Learning')\n",
      "(1, 'Ray')\n",
      "Runtime: 0.31 seconds, data:\n",
      "(2, 'Flexible')\n",
      "(3, 'Distributed')\n",
      "Runtime: 0.51 seconds, data:\n",
      "(4, 'Python')\n",
      "(5, 'for')\n",
      "Runtime: 0.71 seconds, data:\n",
      "(6, 'Machine')\n",
      "(7, 'Learning')\n"
     ]
    }
   ],
   "source": [
    "start = time.time() \n",
    "object_references = [ retrieve_task.remote(item, db_object_ref) for item in range(8) ] \n",
    "all_data = [] \n",
    "\n",
    "while len(object_references) > 0:\n",
    "    # Pull two tasks at a time\n",
    "    finished, object_references = ray.wait( object_references, num_returns=2, timeout=7.0 )\n",
    "    data = ray.get(finished) \n",
    "    print_runtime(data, start) \n",
    "    all_data.extend(data)"
   ]
  },
  {
   "cell_type": "markdown",
   "id": "d9bab563-f164-4c65-9f3f-2019ea599a8a",
   "metadata": {},
   "source": [
    "## follow up tasks\n",
    "\n",
    "In case you need to trigger new tasks"
   ]
  },
  {
   "cell_type": "code",
   "execution_count": 11,
   "id": "62072f40-ca13-4d8d-a99d-1ee41c7f0a3c",
   "metadata": {},
   "outputs": [],
   "source": [
    "@ray.remote \n",
    "def follow_up_task(retrieve_result):\n",
    "    original_item, _ = retrieve_result \n",
    "    follow_up_result = retrieve(original_item + 1) \n",
    "    return retrieve_result, follow_up_result"
   ]
  },
  {
   "cell_type": "code",
   "execution_count": 12,
   "id": "abd60d61-bab2-4bd6-910d-36093689920d",
   "metadata": {},
   "outputs": [
    {
     "name": "stdout",
     "output_type": "stream",
     "text": [
      "((0, 'Learning'), (1, 'Ray'))\n",
      "((2, 'Flexible'), (3, 'Distributed'))\n",
      "((4, 'Python'), (5, 'for'))\n",
      "((6, 'Machine'), (7, 'Learning'))\n"
     ]
    }
   ],
   "source": [
    "# Warning! Executing this task twice will produce the error:\n",
    "\n",
    "# Retreive even tasks\n",
    "retrieve_refs = [retrieve_task.remote(item, db_object_ref) for item in [0, 2, 4, 6]] \n",
    "# Retrieve odd tasks\n",
    "follow_up_refs = [follow_up_task.remote(ref) for ref in retrieve_refs]\n",
    "result = [print(data) for data in ray.get(follow_up_refs)]"
   ]
  },
  {
   "cell_type": "markdown",
   "id": "16840b42-dc54-476e-a041-d053efbaea7c",
   "metadata": {},
   "source": [
    "## Actors\n",
    "\n",
    "Actors are used for stateful computations like:\n",
    "1. Storing some information about executed tasks"
   ]
  },
  {
   "cell_type": "code",
   "execution_count": 13,
   "id": "06757507-4676-4e17-866e-090ca133b31b",
   "metadata": {},
   "outputs": [],
   "source": [
    "@ray.remote\n",
    "class DataTracker: \n",
    "    def __init__(self): \n",
    "        self._counts = 0 \n",
    "        \n",
    "    def increment(self): \n",
    "        self._counts += 1 \n",
    "    \n",
    "    def counts(self): \n",
    "        return self._counts"
   ]
  },
  {
   "cell_type": "code",
   "execution_count": 14,
   "id": "24c2cbd7-b020-418d-9b87-5a6dc69ced6e",
   "metadata": {},
   "outputs": [],
   "source": [
    "@ray.remote \n",
    "def retrieve_tracker_task(item, tracker, db): \n",
    "    time.sleep(item / 10.) \n",
    "    tracker.increment.remote() \n",
    "    return item, db[item]"
   ]
  },
  {
   "cell_type": "code",
   "execution_count": 15,
   "id": "2b40f197-e1eb-42e5-9e7e-e0c62f63652b",
   "metadata": {},
   "outputs": [
    {
     "name": "stdout",
     "output_type": "stream",
     "text": [
      "[(0, 'Learning'), (1, 'Ray'), (2, 'Flexible'), (3, 'Distributed'), (4, 'Python'), (5, 'for'), (6, 'Machine'), (7, 'Learning')]\n",
      "8\n"
     ]
    }
   ],
   "source": [
    "tracker = DataTracker.remote() \n",
    "object_references = [ retrieve_tracker_task.remote(item, tracker, db_object_ref) for item in range(8) ] \n",
    "data = ray.get(object_references) \n",
    "print(data) \n",
    "print(ray.get(tracker.counts.remote()))"
   ]
  },
  {
   "cell_type": "code",
   "execution_count": 16,
   "id": "efd335fa-3e9e-42bf-b736-539c7b4579e2",
   "metadata": {},
   "outputs": [],
   "source": [
    "ray.shutdown()"
   ]
  },
  {
   "cell_type": "markdown",
   "id": "d5f04544-2ea9-4688-ae15-2fdbf3942df1",
   "metadata": {},
   "source": [
    "## In Summary\n",
    "\n",
    "\n",
    "| API | Description |\n",
    "|-|-|\n",
    "|`ray.init()` | Initializes your Ray Cluster. Pass in an address to connect to an existing cluster. |\n",
    "|`@ray.remote` | Turns functions into tasks and classes into actors. ray.put() Puts values into Ray’s object store. |\n",
    "|`ray.get()` | Gets values from the object store. Returns the values you’ve put there or that were computed by a task or actor.|\n",
    "|`.remote()` | Runs actor methods or tasks on your Ray Cluster and is used to instantiate actors. |\n",
    "|`ray.wait()` | Returns two lists of object references, one with finished tasks we’re waiting for and one with unfinished tasks.|\n"
   ]
  }
 ],
 "metadata": {
  "kernelspec": {
   "display_name": "Python 3 (ipykernel)",
   "language": "python",
   "name": "python3"
  },
  "language_info": {
   "codemirror_mode": {
    "name": "ipython",
    "version": 3
   },
   "file_extension": ".py",
   "mimetype": "text/x-python",
   "name": "python",
   "nbconvert_exporter": "python",
   "pygments_lexer": "ipython3",
   "version": "3.10.14"
  }
 },
 "nbformat": 4,
 "nbformat_minor": 5
}
